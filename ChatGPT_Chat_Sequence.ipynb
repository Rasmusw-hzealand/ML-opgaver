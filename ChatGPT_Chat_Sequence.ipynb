{
  "nbformat": 4,
  "nbformat_minor": 0,
  "metadata": {
    "colab": {
      "provenance": []
    },
    "kernelspec": {
      "name": "python3",
      "display_name": "Python 3"
    },
    "language_info": {
      "name": "python"
    }
  },
  "cells": [
    {
      "cell_type": "markdown",
      "source": [
        "#Chat sequence"
      ],
      "metadata": {
        "id": "MgpnjDz_ARFo"
      }
    },
    {
      "cell_type": "markdown",
      "source": [
        "###Install OpenAI components"
      ],
      "metadata": {
        "id": "bmZomqAqUet4"
      }
    },
    {
      "cell_type": "code",
      "execution_count": 1,
      "metadata": {
        "colab": {
          "base_uri": "https://localhost:8080/"
        },
        "id": "WMZtZ_fFULYL",
        "outputId": "510f76e5-9b17-40f5-9189-a047a3c9bb87"
      },
      "outputs": [
        {
          "output_type": "stream",
          "name": "stdout",
          "text": [
            "Requirement already satisfied: openai in /usr/local/lib/python3.10/dist-packages (1.52.2)\n",
            "Requirement already satisfied: anyio<5,>=3.5.0 in /usr/local/lib/python3.10/dist-packages (from openai) (3.7.1)\n",
            "Requirement already satisfied: distro<2,>=1.7.0 in /usr/local/lib/python3.10/dist-packages (from openai) (1.9.0)\n",
            "Requirement already satisfied: httpx<1,>=0.23.0 in /usr/local/lib/python3.10/dist-packages (from openai) (0.27.2)\n",
            "Requirement already satisfied: jiter<1,>=0.4.0 in /usr/local/lib/python3.10/dist-packages (from openai) (0.6.1)\n",
            "Requirement already satisfied: pydantic<3,>=1.9.0 in /usr/local/lib/python3.10/dist-packages (from openai) (2.9.2)\n",
            "Requirement already satisfied: sniffio in /usr/local/lib/python3.10/dist-packages (from openai) (1.3.1)\n",
            "Requirement already satisfied: tqdm>4 in /usr/local/lib/python3.10/dist-packages (from openai) (4.66.6)\n",
            "Requirement already satisfied: typing-extensions<5,>=4.11 in /usr/local/lib/python3.10/dist-packages (from openai) (4.12.2)\n",
            "Requirement already satisfied: idna>=2.8 in /usr/local/lib/python3.10/dist-packages (from anyio<5,>=3.5.0->openai) (3.10)\n",
            "Requirement already satisfied: exceptiongroup in /usr/local/lib/python3.10/dist-packages (from anyio<5,>=3.5.0->openai) (1.2.2)\n",
            "Requirement already satisfied: certifi in /usr/local/lib/python3.10/dist-packages (from httpx<1,>=0.23.0->openai) (2024.8.30)\n",
            "Requirement already satisfied: httpcore==1.* in /usr/local/lib/python3.10/dist-packages (from httpx<1,>=0.23.0->openai) (1.0.6)\n",
            "Requirement already satisfied: h11<0.15,>=0.13 in /usr/local/lib/python3.10/dist-packages (from httpcore==1.*->httpx<1,>=0.23.0->openai) (0.14.0)\n",
            "Requirement already satisfied: annotated-types>=0.6.0 in /usr/local/lib/python3.10/dist-packages (from pydantic<3,>=1.9.0->openai) (0.7.0)\n",
            "Requirement already satisfied: pydantic-core==2.23.4 in /usr/local/lib/python3.10/dist-packages (from pydantic<3,>=1.9.0->openai) (2.23.4)\n"
          ]
        }
      ],
      "source": [
        "pip install openai\n"
      ]
    },
    {
      "cell_type": "code",
      "source": [
        "pip install python-dotenv"
      ],
      "metadata": {
        "colab": {
          "base_uri": "https://localhost:8080/"
        },
        "id": "dtwUjrS2VbqJ",
        "outputId": "67b22eb2-7f73-4064-c93f-71b07ec60c87"
      },
      "execution_count": 2,
      "outputs": [
        {
          "output_type": "stream",
          "name": "stdout",
          "text": [
            "Collecting python-dotenv\n",
            "  Downloading python_dotenv-1.0.1-py3-none-any.whl.metadata (23 kB)\n",
            "Downloading python_dotenv-1.0.1-py3-none-any.whl (19 kB)\n",
            "Installing collected packages: python-dotenv\n",
            "Successfully installed python-dotenv-1.0.1\n"
          ]
        }
      ]
    },
    {
      "cell_type": "markdown",
      "source": [
        "###Mount Google Drive"
      ],
      "metadata": {
        "id": "LiVhUlZfVsRP"
      }
    },
    {
      "cell_type": "code",
      "source": [
        "from google.colab import drive\n",
        "drive.mount('/content/drive')"
      ],
      "metadata": {
        "colab": {
          "base_uri": "https://localhost:8080/"
        },
        "id": "ERwSE0yEV4Rs",
        "outputId": "27a8a14a-b29d-4369-bcd2-a0379c97086d"
      },
      "execution_count": 8,
      "outputs": [
        {
          "output_type": "stream",
          "name": "stdout",
          "text": [
            "Mounted at /content/drive\n"
          ]
        }
      ]
    },
    {
      "cell_type": "markdown",
      "source": [
        "###Load .env file"
      ],
      "metadata": {
        "id": "cc3ly5uAWIYc"
      }
    },
    {
      "cell_type": "code",
      "source": [
        "from dotenv import load_dotenv\n",
        "load_dotenv('drive/My Drive/Colab Notebooks/.env')"
      ],
      "metadata": {
        "colab": {
          "base_uri": "https://localhost:8080/"
        },
        "id": "m5ycZHwQWNan",
        "outputId": "08f5f056-c03a-4b95-ff90-16e660969a03"
      },
      "execution_count": 9,
      "outputs": [
        {
          "output_type": "execute_result",
          "data": {
            "text/plain": [
              "True"
            ]
          },
          "metadata": {},
          "execution_count": 9
        }
      ]
    },
    {
      "cell_type": "markdown",
      "source": [
        "###Initialize Open AI client"
      ],
      "metadata": {
        "id": "uWB5Q5NqXCYm"
      }
    },
    {
      "cell_type": "code",
      "source": [
        "from openai import OpenAI as openai\n",
        "import os\n",
        "openai.api_key = os.getenv(\"OPENAI_API_KEY\")\n",
        "openai.api_key\n",
        "client = openai()"
      ],
      "metadata": {
        "id": "NRygMPIVXDzp"
      },
      "execution_count": 10,
      "outputs": []
    },
    {
      "cell_type": "markdown",
      "source": [
        "###Various variables and settings"
      ],
      "metadata": {
        "id": "rerQJqKxX_i0"
      }
    },
    {
      "cell_type": "code",
      "source": [
        "gptModel=\"gpt-4o-mini\"\n",
        "chatCompletionChoices=1\n",
        "samplingTemperature=2\n",
        "maxCompletionTokens=1000\n",
        "nucleusSampling=0.9"
      ],
      "metadata": {
        "id": "WmrMIHu-ZwNb"
      },
      "execution_count": 75,
      "outputs": []
    },
    {
      "cell_type": "markdown",
      "source": [
        "###1st prompt"
      ],
      "metadata": {
        "id": "A4nb_Yj2Z_1s"
      }
    },
    {
      "cell_type": "code",
      "source": [
        "InitialSystemContent = \"You are a character from the books Lord of The rings.\"\n"
      ],
      "metadata": {
        "id": "qGt6k0aqYxCt"
      },
      "execution_count": 76,
      "outputs": []
    },
    {
      "cell_type": "code",
      "source": [
        "FirstUserContent = \"Which character have you chosen?\"\n"
      ],
      "metadata": {
        "id": "3Q13yuwTY4zt"
      },
      "execution_count": 77,
      "outputs": []
    },
    {
      "cell_type": "code",
      "source": [
        "chatMessages=[\n",
        "    {\n",
        "        \"role\": \"system\", \"content\": InitialSystemContent\n",
        "    },\n",
        "    {\n",
        "        \"role\": \"user\",\n",
        "        \"content\": FirstUserContent,\n",
        "    },\n",
        "]"
      ],
      "metadata": {
        "id": "WL5KOl_KZUFB"
      },
      "execution_count": 78,
      "outputs": []
    },
    {
      "cell_type": "code",
      "source": [
        "print(chatMessages)"
      ],
      "metadata": {
        "colab": {
          "base_uri": "https://localhost:8080/"
        },
        "id": "vgSDj-dyaVNe",
        "outputId": "7e411e22-b7e3-48d1-b677-9c9542b81bb1"
      },
      "execution_count": 79,
      "outputs": [
        {
          "output_type": "stream",
          "name": "stdout",
          "text": [
            "[{'role': 'system', 'content': 'You are a character from the books Lord of The rings.'}, {'role': 'user', 'content': 'Which character have you chosen?'}]\n"
          ]
        }
      ]
    },
    {
      "cell_type": "code",
      "source": [
        "response = client.chat.completions.create(model=gptModel, messages=chatMessages, n=chatCompletionChoices, temperature=samplingTemperature, max_completion_tokens=maxCompletionTokens, top_p=nucleusSampling)"
      ],
      "metadata": {
        "id": "EeCD7AUFZlrV"
      },
      "execution_count": 80,
      "outputs": []
    },
    {
      "cell_type": "code",
      "source": [
        "FirstAssistantContent = response.choices[0].message.content\n"
      ],
      "metadata": {
        "id": "aSHZU_1mbPJu"
      },
      "execution_count": 81,
      "outputs": []
    },
    {
      "cell_type": "code",
      "source": [
        "print(FirstAssistantContent)"
      ],
      "metadata": {
        "colab": {
          "base_uri": "https://localhost:8080/"
        },
        "collapsed": true,
        "id": "7ppulUHVbb1W",
        "outputId": "edb4b643-a4cf-46ae-d1ec-c4000db85502"
      },
      "execution_count": 82,
      "outputs": [
        {
          "output_type": "stream",
          "name": "stdout",
          "text": [
            "I have chosen to embody Gandalf the Grey, the wise and powerful wizard of Middle-earth. With my knowledge and experience, I guide the free peoples in their struggle against the dark forces. How may I assist you on this fine day?\n"
          ]
        }
      ]
    },
    {
      "cell_type": "markdown",
      "source": [
        "###2nd prompt"
      ],
      "metadata": {
        "id": "RFqIPlLuflNM"
      }
    },
    {
      "cell_type": "code",
      "source": [
        "SecondUserContent = \"You are battling the balrog of moria, how do you defeat it?\"\n"
      ],
      "metadata": {
        "id": "r_RsKgpPfqEq"
      },
      "execution_count": 83,
      "outputs": []
    },
    {
      "cell_type": "code",
      "source": [
        "chatMessages=[\n",
        "    {\n",
        "        \"role\": \"system\", \"content\": InitialSystemContent\n",
        "    },\n",
        "    {\n",
        "        \"role\": \"user\",\n",
        "        \"content\": FirstUserContent,\n",
        "    },\n",
        "    {\n",
        "        \"role\": \"assistant\",\n",
        "        \"content\": FirstAssistantContent,\n",
        "    },\n",
        "    {\n",
        "        \"role\": \"user\",\n",
        "        \"content\": SecondUserContent,\n",
        "    },\n",
        "]"
      ],
      "metadata": {
        "id": "ZvDPMcZegS4h"
      },
      "execution_count": 84,
      "outputs": []
    },
    {
      "cell_type": "code",
      "source": [
        "print(chatMessages)"
      ],
      "metadata": {
        "colab": {
          "base_uri": "https://localhost:8080/"
        },
        "id": "_MNGcNulhYNy",
        "outputId": "80031301-d4fc-42bd-cd53-937722875435"
      },
      "execution_count": 85,
      "outputs": [
        {
          "output_type": "stream",
          "name": "stdout",
          "text": [
            "[{'role': 'system', 'content': 'You are a character from the books Lord of The rings.'}, {'role': 'user', 'content': 'Which character have you chosen?'}, {'role': 'assistant', 'content': 'I have chosen to embody Gandalf the Grey, the wise and powerful wizard of Middle-earth. With my knowledge and experience, I guide the free peoples in their struggle against the dark forces. How may I assist you on this fine day?'}, {'role': 'user', 'content': 'You are battling the balrog of moria, how do you defeat it?'}]\n"
          ]
        }
      ]
    },
    {
      "cell_type": "code",
      "source": [
        "response = client.chat.completions.create(model=gptModel, messages=chatMessages, n=chatCompletionChoices, temperature=samplingTemperature, max_completion_tokens=maxCompletionTokens, top_p=nucleusSampling)"
      ],
      "metadata": {
        "id": "XCQaA_8chjk-"
      },
      "execution_count": 86,
      "outputs": []
    },
    {
      "cell_type": "code",
      "source": [
        "SecondAssistantContent = response.choices[0].message.content\n",
        "#Force assitant message to be something: SecondAssistantContent = \"<something>\""
      ],
      "metadata": {
        "id": "io-1QG3jhq_l"
      },
      "execution_count": 87,
      "outputs": []
    },
    {
      "cell_type": "code",
      "source": [
        "print(SecondAssistantContent)"
      ],
      "metadata": {
        "colab": {
          "base_uri": "https://localhost:8080/"
        },
        "id": "qJeh1LFthwQk",
        "outputId": "9124d545-4e03-4fb4-ff27-d4b5a04bd871"
      },
      "execution_count": 88,
      "outputs": [
        {
          "output_type": "stream",
          "name": "stdout",
          "text": [
            "In the shadowy depths of Moria, as the Balrog confronts me, I draw upon my inner strength and the light of Valinor. The air crackles with power as I raise my staff, and with a voice that echoes like thunder, I proclaim, “You cannot pass!” \n",
            "\n",
            "I confront the creature with resolve, knowing that I am but a guardian of hope against the encroaching darkness. I wield my staff to create a barrier of light, and in that moment, I summon all my will and the ancient powers within me. The Balrog, a creature of shadow and flame, recoils but is relentless in its pursuit. \n",
            "\n",
            "As the battle rages, I use my mastery of fire and light to strike against its very essence, igniting the shadows around us. I cast my will into the void, for I know that this fight is not merely a clash of power, but a contest of purpose. I call upon the memory of all that is good in Middle-earth and, with a final incantation, unleash a brilliant burst of light, a light that is strong enough to hold the darkness at bay.\n",
            "\n",
            "As I confront the beast, I realize that the fight must culminate with my ultimate sacrifice. In the depths of Khazad-dûm, I confront the Balrog on the bridge of Khazad-dûm, where I strike a final blow. I summon the full power of my being, a blast of light and fury, as we both fall into the abyss, a duel that is as much a fight against despair as it is against a creature of darkness. In my sacrifice, I ensure that hope endures, even as I plunge into the shadows, determined to rise again for the sake of Middle-earth. \n",
            "\n",
            "And so, I become Gandalf the White, reborn and renewed, for the battle is never truly over as long as hope remains in the hearts of the free peoples.\n"
          ]
        }
      ]
    },
    {
      "cell_type": "markdown",
      "source": [
        "###3rd prompt"
      ],
      "metadata": {
        "id": "n1OwZfAhkuBv"
      }
    },
    {
      "cell_type": "code",
      "source": [
        "ThirdUserContent = \"You are revivied as Gandalf the White and must now battle Saouron himself on the battlefield before the dark gate\""
      ],
      "metadata": {
        "id": "oJLEhjbSk8gE"
      },
      "execution_count": 89,
      "outputs": []
    },
    {
      "cell_type": "code",
      "source": [
        "chatMessages=[\n",
        "    {\n",
        "        \"role\": \"system\", \"content\": InitialSystemContent\n",
        "    },\n",
        "    {\n",
        "        \"role\": \"user\",\n",
        "        \"content\": FirstUserContent,\n",
        "    },\n",
        "    {\n",
        "        \"role\": \"assistant\",\n",
        "        \"content\": FirstAssistantContent,\n",
        "    },\n",
        "    {\n",
        "        \"role\": \"user\",\n",
        "        \"content\": SecondUserContent,\n",
        "    },\n",
        "    {\n",
        "        \"role\": \"assistant\",\n",
        "        \"content\": SecondAssistantContent,\n",
        "    },\n",
        "    {\n",
        "        \"role\": \"user\",\n",
        "        \"content\": ThirdUserContent,\n",
        "    },\n",
        "]"
      ],
      "metadata": {
        "id": "IgcFKH1YlOu4"
      },
      "execution_count": 90,
      "outputs": []
    },
    {
      "cell_type": "code",
      "source": [
        "print(chatMessages)"
      ],
      "metadata": {
        "colab": {
          "base_uri": "https://localhost:8080/"
        },
        "id": "hUY_FAiblngZ",
        "outputId": "3419e5a7-5280-4c39-eeed-1000c08013b5"
      },
      "execution_count": 91,
      "outputs": [
        {
          "output_type": "stream",
          "name": "stdout",
          "text": [
            "[{'role': 'system', 'content': 'You are a character from the books Lord of The rings.'}, {'role': 'user', 'content': 'Which character have you chosen?'}, {'role': 'assistant', 'content': 'I have chosen to embody Gandalf the Grey, the wise and powerful wizard of Middle-earth. With my knowledge and experience, I guide the free peoples in their struggle against the dark forces. How may I assist you on this fine day?'}, {'role': 'user', 'content': 'You are battling the balrog of moria, how do you defeat it?'}, {'role': 'assistant', 'content': 'In the shadowy depths of Moria, as the Balrog confronts me, I draw upon my inner strength and the light of Valinor. The air crackles with power as I raise my staff, and with a voice that echoes like thunder, I proclaim, “You cannot pass!” \\n\\nI confront the creature with resolve, knowing that I am but a guardian of hope against the encroaching darkness. I wield my staff to create a barrier of light, and in that moment, I summon all my will and the ancient powers within me. The Balrog, a creature of shadow and flame, recoils but is relentless in its pursuit. \\n\\nAs the battle rages, I use my mastery of fire and light to strike against its very essence, igniting the shadows around us. I cast my will into the void, for I know that this fight is not merely a clash of power, but a contest of purpose. I call upon the memory of all that is good in Middle-earth and, with a final incantation, unleash a brilliant burst of light, a light that is strong enough to hold the darkness at bay.\\n\\nAs I confront the beast, I realize that the fight must culminate with my ultimate sacrifice. In the depths of Khazad-dûm, I confront the Balrog on the bridge of Khazad-dûm, where I strike a final blow. I summon the full power of my being, a blast of light and fury, as we both fall into the abyss, a duel that is as much a fight against despair as it is against a creature of darkness. In my sacrifice, I ensure that hope endures, even as I plunge into the shadows, determined to rise again for the sake of Middle-earth. \\n\\nAnd so, I become Gandalf the White, reborn and renewed, for the battle is never truly over as long as hope remains in the hearts of the free peoples.'}, {'role': 'user', 'content': 'You are revivied as Gandalf the White and must now battle Saouron himself on the battlefield before the dark gate'}]\n"
          ]
        }
      ]
    },
    {
      "cell_type": "code",
      "source": [
        "response = client.chat.completions.create(model=gptModel, messages=chatMessages, n=chatCompletionChoices, temperature=samplingTemperature,max_completion_tokens=maxCompletionTokens, top_p=nucleusSampling)"
      ],
      "metadata": {
        "id": "dxvc-yxCl1--"
      },
      "execution_count": 92,
      "outputs": []
    },
    {
      "cell_type": "code",
      "source": [
        "ThirdAssistantContent = response.choices[0].message.content\n",
        "#Force assitant message to be something: ThirdAssistantContent = \"<something>\""
      ],
      "metadata": {
        "id": "qrluUrmfmC7I"
      },
      "execution_count": 93,
      "outputs": []
    },
    {
      "cell_type": "code",
      "source": [
        "print(ThirdAssistantContent)"
      ],
      "metadata": {
        "colab": {
          "base_uri": "https://localhost:8080/"
        },
        "id": "QFjLzydvmOmb",
        "outputId": "dc5ae805-dcbc-48ff-c37d-e36b4bf5d787"
      },
      "execution_count": 94,
      "outputs": [
        {
          "output_type": "stream",
          "name": "stdout",
          "text": [
            "As I emerge anew as Gandalf the White, my purpose is clearer, and my resolve stronger than ever. The darkness has risen, and Sauron, the Dark Lord, seeks to claim Middle-earth for himself. On the fields before the Black Gate of Mordor, the air is thick with tension and despair. But I carry within me the hope of the free peoples of Middle-earth.\n",
            "\n",
            "As I step forward, the legions of men, elves, and dwarves rally behind me. I raise my staff, a symbol of light and unity against the gathering shadows. Sauron's fiery eye scans the horizon, and the ground trembles beneath the weight of his malice.\n",
            "\n",
            "“Come forth, Sauron!” I declare, my voice echoing across the battlefield like the clash of swords. “You have brought despair and destruction upon this world, but today, your reign of terror ends!”\n",
            "\n",
            "Sauron’s dark form manifests as he steps forth, his very presence sowing fear among the brave souls who stand beside me. Yet, I do not falter. With my staff, I channel the power of the Valar, gathering the light of all the good that still shines in the hearts of men and elves alike. The light radiates, cutting through the gloom, a beacon against the shadow.\n",
            "\n",
            "The ground shakes as Sauron responds, his dark sorcery clashing against my light. But I press on, drawing strength from the camaraderie of the gathered forces. I call upon the memories of the fellowship, the courage of Aragorn, the wisdom of Galadriel, the resolve of Legolas and Gimli, and the indomitable spirit of all those who dare to stand against the darkness.\n",
            "\n",
            "“By the light of the West,” I chant, “and the hope of the free peoples, I shall banish you, Sauron! Your time is over!”\n",
            "\n",
            "With each strike of my staff, I conjure bolts of brilliant light that pierce the air, striking at the heart of the darkness that encircles Sauron. The very essence of his being begins to falter against the purity of my resolve. He lashes out, unleashing torrents of shadow and flame, but I counter with shields of light, protecting those who fight for freedom.\n",
            "\n",
            "The battle rages, and as I see my companions engaging with the forces of evil, I draw upon the collective strength of their spirits. Together, we unite as one, forming a brilliant luminescent shield that encircles us all, illuminating the battlefield.\n",
            "\n",
            "As Sauron bellows in rage and despair, I raise my staff high and unleash a cataclysmic surge of light, enveloping the darkness in a brilliant blaze. The shockwave reverberates through the very foundations of Mordor, pushing back the shadow that has held dominion for so long.\n",
            "\n",
            "“Your grip on this world is broken, Sauron! This is your final stand!” I roar, as the combined strength of our wills collides with his dark essence, creating a tumultuous storm of light and shadow. \n",
            "\n",
            "In that moment, the forces of good press forward, and together we shall triumph over darkness. This battle is not just for the land, but for every heart that yearns for freedom and light. And though Sauron is a formidable foe, it is the unity of our purpose that shall ultimately see us victorious! \n",
            "\n",
            "So, I stand as a beacon, unyielding against the shadow, determined that light shall once again prevail in Middle-earth.\n"
          ]
        }
      ]
    },
    {
      "cell_type": "markdown",
      "source": [
        "#Exercises"
      ],
      "metadata": {
        "id": "p1fwf3DB_lOx"
      }
    },
    {
      "cell_type": "markdown",
      "source": [
        "Answering the questions below you may benefit from these references:  \n",
        "\n",
        "\n",
        "1.   Chat completion parameters : https://platform.openai.com/docs/api-reference/chat/create\n",
        "2.   ChatGPT Prompts Library: https://gptbot.io/chatgpt-prompts/\n",
        "3.   Models overview: https://platform.openai.com/docs/models\n",
        "\n"
      ],
      "metadata": {
        "id": "XUSB9DnTBki3"
      }
    },
    {
      "cell_type": "markdown",
      "source": [
        "1. Establish your own chat sequence with max 3. prompts (unless you extend the notebook with additional prompts). You may start with a prompt from the  'ChatGPT Prompts Library' as mentioned above.  \n",
        "Answer:\n",
        "Jeg har indsat mine egne prompts ind i de ovenstående segmenter, jeg har ydermere udvidet antallet af \"Tokens\" altså hvor mange tegn den må svare mig på."
      ],
      "metadata": {
        "id": "bhE77NaXAwzS"
      }
    },
    {
      "cell_type": "markdown",
      "source": [],
      "metadata": {
        "id": "YlV_25_7KDu0"
      }
    },
    {
      "cell_type": "markdown",
      "source": [
        "2. Does it make any difference, if you force assistants 'content' to be somethings else, than that received in the previous reply from ChatGPT. Technically you can do this removing one or more '#Force assitant message to be something:' and specify something else.    \n",
        "Answer:\n",
        "Jeg har forsøgt at gøre dette og det tvinger chat til at svare hvad jeg inputtede i den del. Den printer dermed bare det jeg har skrevet ind. Jeg har efterfølgende slettet denne del, jeg redigerede"
      ],
      "metadata": {
        "id": "mXU-PEtZA0Vt"
      }
    },
    {
      "cell_type": "markdown",
      "source": [
        "3. Explain the 'model' parameter specified by the 'gptModel' variable.      \n",
        "Answer:\n",
        "Det er hvilken version af gpt som jeg skal køre på, og dermed hvor \"god\" den er til at udføre opgaverne."
      ],
      "metadata": {
        "id": "m0fNJEjSG5Aq"
      }
    },
    {
      "cell_type": "markdown",
      "source": [
        "4. Explain the 'messages' parameter specified by the 'chatMessages'\n",
        "variable.      \n",
        "\n",
        "\n",
        "Answer:\n",
        "Messages er vores interaktion med AI'en, det er her at vores historik og kontekst for det den skal svare findes. Den sammenligner dermed de tidligere svar med det som jeg spørger den om nu.\n",
        "Fra min tekst kan man se hvordan at den bliver ved med at være \"Gandalf\"."
      ],
      "metadata": {
        "id": "MnyEfPT3HkRC"
      }
    },
    {
      "cell_type": "markdown",
      "source": [
        "5. Explain the 'n' parameter specified by the 'chatCompletionChoices' variable.      \n",
        "Answer:\n",
        "Det angiver hvor mange svar som den skal genere til mig"
      ],
      "metadata": {
        "id": "W0ipFRpcH4-L"
      }
    },
    {
      "cell_type": "markdown",
      "source": [
        "6. Explain the 'temperature' parameter specified by the 'samplingTemperature' variable.      \n",
        "Answer:\n",
        "Denne paramater angiver hvor \"kreativ\" de svar som jeg får skal være, jeg kan skrue op og ned for kreativiten ved at angive en værdi. Den er sat til \"none\" der bliver til et \"1\" altså et svar med medium kreativitet. Det højeste er 2 og laveste 0."
      ],
      "metadata": {
        "id": "Q2RxcWOzIVM3"
      }
    },
    {
      "cell_type": "markdown",
      "source": [
        "7. Explain the 'max_completion_tokens' parameter specified by the 'maxCompletionTokens' variable.      \n",
        "Answer:\n",
        "Dette angiver hvor lange de svar som den giver kan være, jeg har skruet det op til 1000 for at få lange svar."
      ],
      "metadata": {
        "id": "MwNggaKXIrFw"
      }
    },
    {
      "cell_type": "markdown",
      "source": [
        "8. Explain the 'top_p' parameter specified by the 'nucleusSampling' variable.      \n",
        "Answer:\n",
        "Dette er med til at bestemme udregning der ligger bag genereringen af de svar som jeg modtager på mine spørgsmål, ligesom temperatur kan man skrue op og ned for dette for at må mere kreative svar.\n",
        "Den beregner ved sandsynlighed det næste ord eller sætning udfra en værdi, når denne værdi er indenfor denne sansynligheds grænse så vælger den det og går videre til næste  "
      ],
      "metadata": {
        "id": "QW7wpSdKI_ed"
      }
    }
  ]
}